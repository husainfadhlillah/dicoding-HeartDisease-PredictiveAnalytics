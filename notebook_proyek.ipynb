{
 "cells": [
  {
   "cell_type": "markdown",
   "id": "25fd4ab9",
   "metadata": {},
   "source": [
    "# **Proyek Predictive Analytics: Prediksi Penyakit Jantung**\n",
    "\n",
    "- **Nama:** Muhammad Husain Fadhlillah\n",
    "- **Email Student:** mc006d5y2343@student.devacademy.id\n",
    "- **Cohort ID:** MC006D5Y2343"
   ]
  },
  {
   "cell_type": "markdown",
   "id": "a87872b8",
   "metadata": {},
   "source": [
    "## **1. Mengimpor Library yang Dibutuhkan**\n",
    "Langkah pertama adalah mengimpor semua library Python yang akan digunakan."
   ]
  },
  {
   "cell_type": "code",
   "execution_count": 1,
   "id": "db6ef413",
   "metadata": {},
   "outputs": [],
   "source": [
    "# Untuk mengabaikan peringatan yang tidak relevan agar output lebih bersih\n",
    "import warnings\n",
    "warnings.filterwarnings('ignore')\n",
    "\n",
    "# Library untuk data manipulation dan analysis\n",
    "import pandas as pd\n",
    "import numpy as np\n",
    "\n",
    "# Library untuk visualisasi data\n",
    "import matplotlib.pyplot as plt\n",
    "import seaborn as sns\n",
    "\n",
    "# Library dari Scikit-learn untuk machine learning\n",
    "from sklearn.model_selection import train_test_split\n",
    "from sklearn.preprocessing import StandardScaler\n",
    "from sklearn.linear_model import LogisticRegression\n",
    "from sklearn.ensemble import RandomForestClassifier\n",
    "from sklearn.metrics import accuracy_score, precision_score, recall_score, f1_score, confusion_matrix, classification_report\n",
    "\n",
    "# Mengatur agar plot ditampilkan inline di notebook\n",
    "%matplotlib inline"
   ]
  },
  {
   "cell_type": "markdown",
   "id": "5773bd7c",
   "metadata": {},
   "source": []
  },
  {
   "cell_type": "markdown",
   "id": "2d9ba27b",
   "metadata": {},
   "source": [
    "## **2. Data Loading dan Understanding**\n",
    "Pada tahap ini akan memuat dataset, memberinya nama kolom yang sesuai, dan melakukan eksplorasi data awal untuk memahami strukturnya."
   ]
  },
  {
   "cell_type": "code",
   "execution_count": 2,
   "id": "4fd67d48",
   "metadata": {},
   "outputs": [
    {
     "name": "stdout",
     "output_type": "stream",
     "text": [
      "Data Awal (5 baris pertama):\n"
     ]
    },
    {
     "data": {
      "application/vnd.microsoft.datawrangler.viewer.v0+json": {
       "columns": [
        {
         "name": "index",
         "rawType": "int64",
         "type": "integer"
        },
        {
         "name": "age",
         "rawType": "float64",
         "type": "float"
        },
        {
         "name": "sex",
         "rawType": "float64",
         "type": "float"
        },
        {
         "name": "cp",
         "rawType": "float64",
         "type": "float"
        },
        {
         "name": "trestbps",
         "rawType": "float64",
         "type": "float"
        },
        {
         "name": "chol",
         "rawType": "float64",
         "type": "float"
        },
        {
         "name": "fbs",
         "rawType": "float64",
         "type": "float"
        },
        {
         "name": "restecg",
         "rawType": "float64",
         "type": "float"
        },
        {
         "name": "thalach",
         "rawType": "float64",
         "type": "float"
        },
        {
         "name": "exang",
         "rawType": "float64",
         "type": "float"
        },
        {
         "name": "oldpeak",
         "rawType": "float64",
         "type": "float"
        },
        {
         "name": "slope",
         "rawType": "float64",
         "type": "float"
        },
        {
         "name": "ca",
         "rawType": "float64",
         "type": "float"
        },
        {
         "name": "thal",
         "rawType": "float64",
         "type": "float"
        },
        {
         "name": "target",
         "rawType": "int64",
         "type": "integer"
        }
       ],
       "ref": "14a1971c-30b7-4887-bf12-82d06d6bb43c",
       "rows": [
        [
         "0",
         "63.0",
         "1.0",
         "1.0",
         "145.0",
         "233.0",
         "1.0",
         "2.0",
         "150.0",
         "0.0",
         "2.3",
         "3.0",
         "0.0",
         "6.0",
         "0"
        ],
        [
         "1",
         "67.0",
         "1.0",
         "4.0",
         "160.0",
         "286.0",
         "0.0",
         "2.0",
         "108.0",
         "1.0",
         "1.5",
         "2.0",
         "3.0",
         "3.0",
         "2"
        ],
        [
         "2",
         "67.0",
         "1.0",
         "4.0",
         "120.0",
         "229.0",
         "0.0",
         "2.0",
         "129.0",
         "1.0",
         "2.6",
         "2.0",
         "2.0",
         "7.0",
         "1"
        ],
        [
         "3",
         "37.0",
         "1.0",
         "3.0",
         "130.0",
         "250.0",
         "0.0",
         "0.0",
         "187.0",
         "0.0",
         "3.5",
         "3.0",
         "0.0",
         "3.0",
         "0"
        ],
        [
         "4",
         "41.0",
         "0.0",
         "2.0",
         "130.0",
         "204.0",
         "0.0",
         "2.0",
         "172.0",
         "0.0",
         "1.4",
         "1.0",
         "0.0",
         "3.0",
         "0"
        ]
       ],
       "shape": {
        "columns": 14,
        "rows": 5
       }
      },
      "text/html": [
       "<div>\n",
       "<style scoped>\n",
       "    .dataframe tbody tr th:only-of-type {\n",
       "        vertical-align: middle;\n",
       "    }\n",
       "\n",
       "    .dataframe tbody tr th {\n",
       "        vertical-align: top;\n",
       "    }\n",
       "\n",
       "    .dataframe thead th {\n",
       "        text-align: right;\n",
       "    }\n",
       "</style>\n",
       "<table border=\"1\" class=\"dataframe\">\n",
       "  <thead>\n",
       "    <tr style=\"text-align: right;\">\n",
       "      <th></th>\n",
       "      <th>age</th>\n",
       "      <th>sex</th>\n",
       "      <th>cp</th>\n",
       "      <th>trestbps</th>\n",
       "      <th>chol</th>\n",
       "      <th>fbs</th>\n",
       "      <th>restecg</th>\n",
       "      <th>thalach</th>\n",
       "      <th>exang</th>\n",
       "      <th>oldpeak</th>\n",
       "      <th>slope</th>\n",
       "      <th>ca</th>\n",
       "      <th>thal</th>\n",
       "      <th>target</th>\n",
       "    </tr>\n",
       "  </thead>\n",
       "  <tbody>\n",
       "    <tr>\n",
       "      <th>0</th>\n",
       "      <td>63.0</td>\n",
       "      <td>1.0</td>\n",
       "      <td>1.0</td>\n",
       "      <td>145.0</td>\n",
       "      <td>233.0</td>\n",
       "      <td>1.0</td>\n",
       "      <td>2.0</td>\n",
       "      <td>150.0</td>\n",
       "      <td>0.0</td>\n",
       "      <td>2.3</td>\n",
       "      <td>3.0</td>\n",
       "      <td>0.0</td>\n",
       "      <td>6.0</td>\n",
       "      <td>0</td>\n",
       "    </tr>\n",
       "    <tr>\n",
       "      <th>1</th>\n",
       "      <td>67.0</td>\n",
       "      <td>1.0</td>\n",
       "      <td>4.0</td>\n",
       "      <td>160.0</td>\n",
       "      <td>286.0</td>\n",
       "      <td>0.0</td>\n",
       "      <td>2.0</td>\n",
       "      <td>108.0</td>\n",
       "      <td>1.0</td>\n",
       "      <td>1.5</td>\n",
       "      <td>2.0</td>\n",
       "      <td>3.0</td>\n",
       "      <td>3.0</td>\n",
       "      <td>2</td>\n",
       "    </tr>\n",
       "    <tr>\n",
       "      <th>2</th>\n",
       "      <td>67.0</td>\n",
       "      <td>1.0</td>\n",
       "      <td>4.0</td>\n",
       "      <td>120.0</td>\n",
       "      <td>229.0</td>\n",
       "      <td>0.0</td>\n",
       "      <td>2.0</td>\n",
       "      <td>129.0</td>\n",
       "      <td>1.0</td>\n",
       "      <td>2.6</td>\n",
       "      <td>2.0</td>\n",
       "      <td>2.0</td>\n",
       "      <td>7.0</td>\n",
       "      <td>1</td>\n",
       "    </tr>\n",
       "    <tr>\n",
       "      <th>3</th>\n",
       "      <td>37.0</td>\n",
       "      <td>1.0</td>\n",
       "      <td>3.0</td>\n",
       "      <td>130.0</td>\n",
       "      <td>250.0</td>\n",
       "      <td>0.0</td>\n",
       "      <td>0.0</td>\n",
       "      <td>187.0</td>\n",
       "      <td>0.0</td>\n",
       "      <td>3.5</td>\n",
       "      <td>3.0</td>\n",
       "      <td>0.0</td>\n",
       "      <td>3.0</td>\n",
       "      <td>0</td>\n",
       "    </tr>\n",
       "    <tr>\n",
       "      <th>4</th>\n",
       "      <td>41.0</td>\n",
       "      <td>0.0</td>\n",
       "      <td>2.0</td>\n",
       "      <td>130.0</td>\n",
       "      <td>204.0</td>\n",
       "      <td>0.0</td>\n",
       "      <td>2.0</td>\n",
       "      <td>172.0</td>\n",
       "      <td>0.0</td>\n",
       "      <td>1.4</td>\n",
       "      <td>1.0</td>\n",
       "      <td>0.0</td>\n",
       "      <td>3.0</td>\n",
       "      <td>0</td>\n",
       "    </tr>\n",
       "  </tbody>\n",
       "</table>\n",
       "</div>"
      ],
      "text/plain": [
       "    age  sex   cp  trestbps   chol  fbs  restecg  thalach  exang  oldpeak  \\\n",
       "0  63.0  1.0  1.0     145.0  233.0  1.0      2.0    150.0    0.0      2.3   \n",
       "1  67.0  1.0  4.0     160.0  286.0  0.0      2.0    108.0    1.0      1.5   \n",
       "2  67.0  1.0  4.0     120.0  229.0  0.0      2.0    129.0    1.0      2.6   \n",
       "3  37.0  1.0  3.0     130.0  250.0  0.0      0.0    187.0    0.0      3.5   \n",
       "4  41.0  0.0  2.0     130.0  204.0  0.0      2.0    172.0    0.0      1.4   \n",
       "\n",
       "   slope   ca  thal  target  \n",
       "0    3.0  0.0   6.0       0  \n",
       "1    2.0  3.0   3.0       2  \n",
       "2    2.0  2.0   7.0       1  \n",
       "3    3.0  0.0   3.0       0  \n",
       "4    1.0  0.0   3.0       0  "
      ]
     },
     "metadata": {},
     "output_type": "display_data"
    }
   ],
   "source": [
    "# URL dari dataset Heart Disease UCI\n",
    "url = \"https://archive.ics.uci.edu/ml/machine-learning-databases/heart-disease/processed.cleveland.data\"\n",
    "\n",
    "# Nama kolom sesuai dengan dokumentasi dataset\n",
    "column_names = ['age', 'sex', 'cp', 'trestbps', 'chol', 'fbs', 'restecg', 'thalach',\n",
    "                'exang', 'oldpeak', 'slope', 'ca', 'thal', 'target']\n",
    "\n",
    "# Memuat dataset menggunakan pandas\n",
    "df = pd.read_csv(url, header=None, names=column_names, na_values='?')\n",
    "\n",
    "# Menampilkan 5 baris pertama dari dataframe\n",
    "print(\"Data Awal (5 baris pertama):\")\n",
    "display(df.head())\n",
    "\n",
    "# Mengubah nilai target: nilai > 0 berarti ada penyakit jantung (diubah menjadi 1)\n",
    "df['target'] = (df['target'] > 0).astype(int)"
   ]
  },
  {
   "cell_type": "markdown",
   "id": "c78fd951",
   "metadata": {},
   "source": []
  },
  {
   "cell_type": "code",
   "execution_count": 10,
   "id": "23740381",
   "metadata": {},
   "outputs": [
    {
     "name": "stdout",
     "output_type": "stream",
     "text": [
      "\n",
      "Informasi DataFrame:\n",
      "<class 'pandas.core.frame.DataFrame'>\n",
      "Int64Index: 297 entries, 0 to 301\n",
      "Data columns (total 14 columns):\n",
      " #   Column    Non-Null Count  Dtype  \n",
      "---  ------    --------------  -----  \n",
      " 0   age       297 non-null    float64\n",
      " 1   sex       297 non-null    float64\n",
      " 2   cp        297 non-null    float64\n",
      " 3   trestbps  297 non-null    float64\n",
      " 4   chol      297 non-null    float64\n",
      " 5   fbs       297 non-null    float64\n",
      " 6   restecg   297 non-null    float64\n",
      " 7   thalach   297 non-null    float64\n",
      " 8   exang     297 non-null    float64\n",
      " 9   oldpeak   297 non-null    float64\n",
      " 10  slope     297 non-null    float64\n",
      " 11  ca        297 non-null    float64\n",
      " 12  thal      297 non-null    float64\n",
      " 13  target    297 non-null    int32  \n",
      "dtypes: float64(13), int32(1)\n",
      "memory usage: 33.6 KB\n"
     ]
    }
   ],
   "source": [
    "# Menampilkan informasi dasar dataframe\n",
    "print(\"\\nInformasi DataFrame:\")\n",
    "df.info()"
   ]
  },
  {
   "cell_type": "markdown",
   "id": "8b2d76d4",
   "metadata": {},
   "source": [
    "## **3. Data Cleaning**\n",
    "Pada tahap ini akan melakukan pembersihan data secara menyeluruh, meliputi:\n",
    "\n",
    "1. Penanganan nilai yang hilang (missing values).\n",
    "2. Penanganan data duplikat.\n",
    "3. Penanganan outlier menggunakan metode IQR."
   ]
  },
  {
   "cell_type": "code",
   "execution_count": 3,
   "id": "bd76aada",
   "metadata": {},
   "outputs": [
    {
     "name": "stdout",
     "output_type": "stream",
     "text": [
      "--- 1. Penanganan Missing Values ---\n",
      "Jumlah baris awal: 303\n",
      "Jumlah missing values sebelum dibersihkan:\n",
      "age         0\n",
      "sex         0\n",
      "cp          0\n",
      "trestbps    0\n",
      "chol        0\n",
      "fbs         0\n",
      "restecg     0\n",
      "thalach     0\n",
      "exang       0\n",
      "oldpeak     0\n",
      "slope       0\n",
      "ca          4\n",
      "thal        2\n",
      "target      0\n",
      "dtype: int64\n",
      "\n",
      "Jumlah baris setelah menghapus missing values: 297\n",
      "\n",
      "--- 2. Penanganan Data Duplikat ---\n",
      "Jumlah data duplikat: 0\n",
      "Jumlah data duplikat setelah dihapus: 0\n",
      "Jumlah baris setelah menghapus duplikat: 297\n",
      "\n",
      "--- 3. Penanganan Outlier ---\n",
      "Ukuran data sebelum menghapus outlier: (297, 14)\n",
      "Ukuran data setelah menghapus outlier: (278, 14)\n",
      "Data telah bersih dan siap untuk analisis lebih lanjut.\n"
     ]
    }
   ],
   "source": [
    "# 1. Penanganan Missing Values\n",
    "print(\"--- 1. Penanganan Missing Values ---\")\n",
    "print(f\"Jumlah baris awal: {len(df)}\")\n",
    "print(f\"Jumlah missing values sebelum dibersihkan:\\n{df.isnull().sum()}\\n\")\n",
    "df.dropna(inplace=True)\n",
    "print(f\"Jumlah baris setelah menghapus missing values: {len(df)}\\n\")\n",
    "\n",
    "# 2. Penanganan Data Duplikat\n",
    "print(\"--- 2. Penanganan Data Duplikat ---\")\n",
    "print(f\"Jumlah data duplikat: {df.duplicated().sum()}\")\n",
    "df.drop_duplicates(inplace=True)\n",
    "print(f\"Jumlah data duplikat setelah dihapus: {df.duplicated().sum()}\")\n",
    "print(f\"Jumlah baris setelah menghapus duplikat: {len(df)}\\n\")\n",
    "\n",
    "# 3. Penanganan Outlier dengan Metode IQR\n",
    "print(\"--- 3. Penanganan Outlier ---\")\n",
    "numerical_cols = ['age', 'trestbps', 'chol', 'thalach', 'oldpeak']\n",
    "Q1 = df[numerical_cols].quantile(0.25)\n",
    "Q3 = df[numerical_cols].quantile(0.75)\n",
    "IQR = Q3 - Q1\n",
    "\n",
    "# Filter data, membuang baris yang memiliki outlier di salah satu kolom numerik\n",
    "# Kondisi `~` (not) digunakan untuk mempertahankan baris yang TIDAK outlier\n",
    "df_clean = df[~((df[numerical_cols] < (Q1 - 1.5 * IQR)) | (df[numerical_cols] > (Q3 + 1.5 * IQR))).any(axis=1)]\n",
    "\n",
    "print(f\"Ukuran data sebelum menghapus outlier: {df.shape}\")\n",
    "print(f\"Ukuran data setelah menghapus outlier: {df_clean.shape}\")\n",
    "print(\"Data telah bersih dan siap untuk analisis lebih lanjut.\")"
   ]
  },
  {
   "cell_type": "markdown",
   "id": "bb13008a",
   "metadata": {},
   "source": [
    "## **3. Exploratory Data Analysis (EDA)**\n",
    "Melakukan analisis dan visualisasi pada data yang sudah bersih (df_clean) untuk mendapatkan wawasan."
   ]
  },
  {
   "cell_type": "code",
   "execution_count": 11,
   "id": "89138e3a",
   "metadata": {},
   "outputs": [
    {
     "name": "stdout",
     "output_type": "stream",
     "text": [
      "\n",
      "Informasi DataFrame (setelah pembersihan):\n",
      "<class 'pandas.core.frame.DataFrame'>\n",
      "Int64Index: 278 entries, 0 to 301\n",
      "Data columns (total 14 columns):\n",
      " #   Column    Non-Null Count  Dtype  \n",
      "---  ------    --------------  -----  \n",
      " 0   age       278 non-null    float64\n",
      " 1   sex       278 non-null    float64\n",
      " 2   cp        278 non-null    float64\n",
      " 3   trestbps  278 non-null    float64\n",
      " 4   chol      278 non-null    float64\n",
      " 5   fbs       278 non-null    float64\n",
      " 6   restecg   278 non-null    float64\n",
      " 7   thalach   278 non-null    float64\n",
      " 8   exang     278 non-null    float64\n",
      " 9   oldpeak   278 non-null    float64\n",
      " 10  slope     278 non-null    float64\n",
      " 11  ca        278 non-null    float64\n",
      " 12  thal      278 non-null    float64\n",
      " 13  target    278 non-null    int32  \n",
      "dtypes: float64(13), int32(1)\n",
      "memory usage: 31.5 KB\n"
     ]
    }
   ],
   "source": [
    "# Menampilkan informasi setelah pembersihan\n",
    "print(\"\\nInformasi DataFrame (setelah pembersihan):\")\n",
    "df_clean.info()"
   ]
  },
  {
   "cell_type": "code",
   "execution_count": 5,
   "id": "7afd2a28",
   "metadata": {},
   "outputs": [
    {
     "name": "stdout",
     "output_type": "stream",
     "text": [
      "Statistik Deskriptif (Data Bersih):\n"
     ]
    },
    {
     "data": {
      "application/vnd.microsoft.datawrangler.viewer.v0+json": {
       "columns": [
        {
         "name": "index",
         "rawType": "object",
         "type": "string"
        },
        {
         "name": "age",
         "rawType": "float64",
         "type": "float"
        },
        {
         "name": "sex",
         "rawType": "float64",
         "type": "float"
        },
        {
         "name": "cp",
         "rawType": "float64",
         "type": "float"
        },
        {
         "name": "trestbps",
         "rawType": "float64",
         "type": "float"
        },
        {
         "name": "chol",
         "rawType": "float64",
         "type": "float"
        },
        {
         "name": "fbs",
         "rawType": "float64",
         "type": "float"
        },
        {
         "name": "restecg",
         "rawType": "float64",
         "type": "float"
        },
        {
         "name": "thalach",
         "rawType": "float64",
         "type": "float"
        },
        {
         "name": "exang",
         "rawType": "float64",
         "type": "float"
        },
        {
         "name": "oldpeak",
         "rawType": "float64",
         "type": "float"
        },
        {
         "name": "slope",
         "rawType": "float64",
         "type": "float"
        },
        {
         "name": "ca",
         "rawType": "float64",
         "type": "float"
        },
        {
         "name": "thal",
         "rawType": "float64",
         "type": "float"
        },
        {
         "name": "target",
         "rawType": "float64",
         "type": "float"
        }
       ],
       "ref": "942f9418-e9be-49b7-9c43-c511cf885f59",
       "rows": [
        [
         "count",
         "278.0",
         "278.0",
         "278.0",
         "278.0",
         "278.0",
         "278.0",
         "278.0",
         "278.0",
         "278.0",
         "278.0",
         "278.0",
         "278.0",
         "278.0",
         "278.0"
        ],
        [
         "mean",
         "54.172661870503596",
         "0.6942446043165468",
         "3.133093525179856",
         "129.9496402877698",
         "243.1474820143885",
         "0.1366906474820144",
         "0.9856115107913669",
         "150.0",
         "0.31654676258992803",
         "0.9636690647482014",
         "1.5719424460431655",
         "0.6510791366906474",
         "4.66546762589928",
         "0.4460431654676259"
        ],
        [
         "std",
         "9.136690074870923",
         "0.4615575239284585",
         "0.9689689700231217",
         "15.598215088578645",
         "44.9009721955569",
         "0.3441399859770966",
         "0.9980892323230934",
         "22.728185081785863",
         "0.46596774377480205",
         "1.0305847373781614",
         "0.6010254506619955",
         "0.9095456005560949",
         "1.9282139368630107",
         "0.49797658261245203"
        ],
        [
         "min",
         "29.0",
         "0.0",
         "1.0",
         "94.0",
         "126.0",
         "0.0",
         "0.0",
         "88.0",
         "0.0",
         "0.0",
         "1.0",
         "0.0",
         "3.0",
         "0.0"
        ],
        [
         "25%",
         "47.0",
         "0.0",
         "2.25",
         "120.0",
         "211.0",
         "0.0",
         "0.0",
         "133.25",
         "0.0",
         "0.0",
         "1.0",
         "0.0",
         "3.0",
         "0.0"
        ],
        [
         "50%",
         "55.0",
         "1.0",
         "3.0",
         "130.0",
         "240.0",
         "0.0",
         "0.0",
         "153.0",
         "0.0",
         "0.6",
         "2.0",
         "0.0",
         "3.0",
         "0.0"
        ],
        [
         "75%",
         "60.75",
         "1.0",
         "4.0",
         "140.0",
         "272.5",
         "0.0",
         "2.0",
         "167.75",
         "1.0",
         "1.6",
         "2.0",
         "1.0",
         "7.0",
         "1.0"
        ],
        [
         "max",
         "77.0",
         "1.0",
         "4.0",
         "170.0",
         "360.0",
         "1.0",
         "2.0",
         "202.0",
         "1.0",
         "4.0",
         "3.0",
         "3.0",
         "7.0",
         "1.0"
        ]
       ],
       "shape": {
        "columns": 14,
        "rows": 8
       }
      },
      "text/html": [
       "<div>\n",
       "<style scoped>\n",
       "    .dataframe tbody tr th:only-of-type {\n",
       "        vertical-align: middle;\n",
       "    }\n",
       "\n",
       "    .dataframe tbody tr th {\n",
       "        vertical-align: top;\n",
       "    }\n",
       "\n",
       "    .dataframe thead th {\n",
       "        text-align: right;\n",
       "    }\n",
       "</style>\n",
       "<table border=\"1\" class=\"dataframe\">\n",
       "  <thead>\n",
       "    <tr style=\"text-align: right;\">\n",
       "      <th></th>\n",
       "      <th>age</th>\n",
       "      <th>sex</th>\n",
       "      <th>cp</th>\n",
       "      <th>trestbps</th>\n",
       "      <th>chol</th>\n",
       "      <th>fbs</th>\n",
       "      <th>restecg</th>\n",
       "      <th>thalach</th>\n",
       "      <th>exang</th>\n",
       "      <th>oldpeak</th>\n",
       "      <th>slope</th>\n",
       "      <th>ca</th>\n",
       "      <th>thal</th>\n",
       "      <th>target</th>\n",
       "    </tr>\n",
       "  </thead>\n",
       "  <tbody>\n",
       "    <tr>\n",
       "      <th>count</th>\n",
       "      <td>278.000000</td>\n",
       "      <td>278.000000</td>\n",
       "      <td>278.000000</td>\n",
       "      <td>278.000000</td>\n",
       "      <td>278.000000</td>\n",
       "      <td>278.000000</td>\n",
       "      <td>278.000000</td>\n",
       "      <td>278.000000</td>\n",
       "      <td>278.000000</td>\n",
       "      <td>278.000000</td>\n",
       "      <td>278.000000</td>\n",
       "      <td>278.000000</td>\n",
       "      <td>278.000000</td>\n",
       "      <td>278.000000</td>\n",
       "    </tr>\n",
       "    <tr>\n",
       "      <th>mean</th>\n",
       "      <td>54.172662</td>\n",
       "      <td>0.694245</td>\n",
       "      <td>3.133094</td>\n",
       "      <td>129.949640</td>\n",
       "      <td>243.147482</td>\n",
       "      <td>0.136691</td>\n",
       "      <td>0.985612</td>\n",
       "      <td>150.000000</td>\n",
       "      <td>0.316547</td>\n",
       "      <td>0.963669</td>\n",
       "      <td>1.571942</td>\n",
       "      <td>0.651079</td>\n",
       "      <td>4.665468</td>\n",
       "      <td>0.446043</td>\n",
       "    </tr>\n",
       "    <tr>\n",
       "      <th>std</th>\n",
       "      <td>9.136690</td>\n",
       "      <td>0.461558</td>\n",
       "      <td>0.968969</td>\n",
       "      <td>15.598215</td>\n",
       "      <td>44.900972</td>\n",
       "      <td>0.344140</td>\n",
       "      <td>0.998089</td>\n",
       "      <td>22.728185</td>\n",
       "      <td>0.465968</td>\n",
       "      <td>1.030585</td>\n",
       "      <td>0.601025</td>\n",
       "      <td>0.909546</td>\n",
       "      <td>1.928214</td>\n",
       "      <td>0.497977</td>\n",
       "    </tr>\n",
       "    <tr>\n",
       "      <th>min</th>\n",
       "      <td>29.000000</td>\n",
       "      <td>0.000000</td>\n",
       "      <td>1.000000</td>\n",
       "      <td>94.000000</td>\n",
       "      <td>126.000000</td>\n",
       "      <td>0.000000</td>\n",
       "      <td>0.000000</td>\n",
       "      <td>88.000000</td>\n",
       "      <td>0.000000</td>\n",
       "      <td>0.000000</td>\n",
       "      <td>1.000000</td>\n",
       "      <td>0.000000</td>\n",
       "      <td>3.000000</td>\n",
       "      <td>0.000000</td>\n",
       "    </tr>\n",
       "    <tr>\n",
       "      <th>25%</th>\n",
       "      <td>47.000000</td>\n",
       "      <td>0.000000</td>\n",
       "      <td>2.250000</td>\n",
       "      <td>120.000000</td>\n",
       "      <td>211.000000</td>\n",
       "      <td>0.000000</td>\n",
       "      <td>0.000000</td>\n",
       "      <td>133.250000</td>\n",
       "      <td>0.000000</td>\n",
       "      <td>0.000000</td>\n",
       "      <td>1.000000</td>\n",
       "      <td>0.000000</td>\n",
       "      <td>3.000000</td>\n",
       "      <td>0.000000</td>\n",
       "    </tr>\n",
       "    <tr>\n",
       "      <th>50%</th>\n",
       "      <td>55.000000</td>\n",
       "      <td>1.000000</td>\n",
       "      <td>3.000000</td>\n",
       "      <td>130.000000</td>\n",
       "      <td>240.000000</td>\n",
       "      <td>0.000000</td>\n",
       "      <td>0.000000</td>\n",
       "      <td>153.000000</td>\n",
       "      <td>0.000000</td>\n",
       "      <td>0.600000</td>\n",
       "      <td>2.000000</td>\n",
       "      <td>0.000000</td>\n",
       "      <td>3.000000</td>\n",
       "      <td>0.000000</td>\n",
       "    </tr>\n",
       "    <tr>\n",
       "      <th>75%</th>\n",
       "      <td>60.750000</td>\n",
       "      <td>1.000000</td>\n",
       "      <td>4.000000</td>\n",
       "      <td>140.000000</td>\n",
       "      <td>272.500000</td>\n",
       "      <td>0.000000</td>\n",
       "      <td>2.000000</td>\n",
       "      <td>167.750000</td>\n",
       "      <td>1.000000</td>\n",
       "      <td>1.600000</td>\n",
       "      <td>2.000000</td>\n",
       "      <td>1.000000</td>\n",
       "      <td>7.000000</td>\n",
       "      <td>1.000000</td>\n",
       "    </tr>\n",
       "    <tr>\n",
       "      <th>max</th>\n",
       "      <td>77.000000</td>\n",
       "      <td>1.000000</td>\n",
       "      <td>4.000000</td>\n",
       "      <td>170.000000</td>\n",
       "      <td>360.000000</td>\n",
       "      <td>1.000000</td>\n",
       "      <td>2.000000</td>\n",
       "      <td>202.000000</td>\n",
       "      <td>1.000000</td>\n",
       "      <td>4.000000</td>\n",
       "      <td>3.000000</td>\n",
       "      <td>3.000000</td>\n",
       "      <td>7.000000</td>\n",
       "      <td>1.000000</td>\n",
       "    </tr>\n",
       "  </tbody>\n",
       "</table>\n",
       "</div>"
      ],
      "text/plain": [
       "              age         sex          cp    trestbps        chol         fbs  \\\n",
       "count  278.000000  278.000000  278.000000  278.000000  278.000000  278.000000   \n",
       "mean    54.172662    0.694245    3.133094  129.949640  243.147482    0.136691   \n",
       "std      9.136690    0.461558    0.968969   15.598215   44.900972    0.344140   \n",
       "min     29.000000    0.000000    1.000000   94.000000  126.000000    0.000000   \n",
       "25%     47.000000    0.000000    2.250000  120.000000  211.000000    0.000000   \n",
       "50%     55.000000    1.000000    3.000000  130.000000  240.000000    0.000000   \n",
       "75%     60.750000    1.000000    4.000000  140.000000  272.500000    0.000000   \n",
       "max     77.000000    1.000000    4.000000  170.000000  360.000000    1.000000   \n",
       "\n",
       "          restecg     thalach       exang     oldpeak       slope          ca  \\\n",
       "count  278.000000  278.000000  278.000000  278.000000  278.000000  278.000000   \n",
       "mean     0.985612  150.000000    0.316547    0.963669    1.571942    0.651079   \n",
       "std      0.998089   22.728185    0.465968    1.030585    0.601025    0.909546   \n",
       "min      0.000000   88.000000    0.000000    0.000000    1.000000    0.000000   \n",
       "25%      0.000000  133.250000    0.000000    0.000000    1.000000    0.000000   \n",
       "50%      0.000000  153.000000    0.000000    0.600000    2.000000    0.000000   \n",
       "75%      2.000000  167.750000    1.000000    1.600000    2.000000    1.000000   \n",
       "max      2.000000  202.000000    1.000000    4.000000    3.000000    3.000000   \n",
       "\n",
       "             thal      target  \n",
       "count  278.000000  278.000000  \n",
       "mean     4.665468    0.446043  \n",
       "std      1.928214    0.497977  \n",
       "min      3.000000    0.000000  \n",
       "25%      3.000000    0.000000  \n",
       "50%      3.000000    0.000000  \n",
       "75%      7.000000    1.000000  \n",
       "max      7.000000    1.000000  "
      ]
     },
     "metadata": {},
     "output_type": "display_data"
    },
    {
     "data": {
      "image/png": "[encoded data removed]",
      "text/plain": [
       "<Figure size 600x400 with 1 Axes>"
      ]
     },
     "metadata": {},
     "output_type": "display_data"
    },
    {
     "data": {
      "image/png": "[encoded data removed]",
      "text/plain": [
       "<Figure size 1200x1000 with 2 Axes>"
      ]
     },
     "metadata": {},
     "output_type": "display_data"
    }
   ],
   "source": [
    "# Menampilkan statistik deskriptif dari data yang sudah bersih\n",
    "print(\"Statistik Deskriptif (Data Bersih):\")\n",
    "display(df_clean.describe())\n",
    "\n",
    "# Visualisasi distribusi variabel target pada data bersih\n",
    "plt.figure(figsize=(6, 4))\n",
    "sns.countplot(x='target', data=df_clean)\n",
    "plt.title('Distribusi Variabel Target (Data Bersih)')\n",
    "plt.xlabel('Status Penyakit Jantung (0: Sehat, 1: Sakit)')\n",
    "plt.ylabel('Jumlah Pasien')\n",
    "plt.show()\n",
    "\n",
    "# Visualisasi korelasi antar fitur menggunakan heatmap pada data bersih\n",
    "plt.figure(figsize=(12, 10))\n",
    "sns.heatmap(df_clean.corr(), annot=True, cmap='coolwarm', fmt='.2f')\n",
    "plt.title('Heatmap Korelasi (Data Bersih)')\n",
    "plt.show()"
   ]
  },
  {
   "cell_type": "markdown",
   "id": "3ee58c3a",
   "metadata": {},
   "source": []
  },
  {
   "cell_type": "markdown",
   "id": "c0b79020",
   "metadata": {},
   "source": [
    "## **4. Data Preparation**\n",
    "Memisahkan fitur dan target, membagi data menjadi set pelatihan dan pengujian, serta melakukan standarisasi fitur."
   ]
  },
  {
   "cell_type": "code",
   "execution_count": 6,
   "id": "ad858dc5",
   "metadata": {},
   "outputs": [
    {
     "name": "stdout",
     "output_type": "stream",
     "text": [
      "Ukuran data latih: (222, 13)\n",
      "Ukuran data uji: (56, 13)\n",
      "\n",
      "Data setelah standarisasi (5 baris pertama dari data latih):\n"
     ]
    },
    {
     "data": {
      "application/vnd.microsoft.datawrangler.viewer.v0+json": {
       "columns": [
        {
         "name": "index",
         "rawType": "int64",
         "type": "integer"
        },
        {
         "name": "age",
         "rawType": "float64",
         "type": "float"
        },
        {
         "name": "sex",
         "rawType": "float64",
         "type": "float"
        },
        {
         "name": "cp",
         "rawType": "float64",
         "type": "float"
        },
        {
         "name": "trestbps",
         "rawType": "float64",
         "type": "float"
        },
        {
         "name": "chol",
         "rawType": "float64",
         "type": "float"
        },
        {
         "name": "fbs",
         "rawType": "float64",
         "type": "float"
        },
        {
         "name": "restecg",
         "rawType": "float64",
         "type": "float"
        },
        {
         "name": "thalach",
         "rawType": "float64",
         "type": "float"
        },
        {
         "name": "exang",
         "rawType": "float64",
         "type": "float"
        },
        {
         "name": "oldpeak",
         "rawType": "float64",
         "type": "float"
        },
        {
         "name": "slope",
         "rawType": "float64",
         "type": "float"
        },
        {
         "name": "ca",
         "rawType": "float64",
         "type": "float"
        },
        {
         "name": "thal",
         "rawType": "float64",
         "type": "float"
        }
       ],
       "ref": "79bff406-c5dc-4393-ad92-3df65cb7a0bc",
       "rows": [
        [
         "63",
         "0.0",
         "0.0",
         "3.0",
         "0.3497130193325543",
         "1.356057301277047",
         "1.0",
         "0.0",
         "0.8635992282837313",
         "0.0",
         "-0.976046206201",
         "1.0",
         "0.0",
         "3.0"
        ],
        [
         "133",
         "-0.3276608513850259",
         "1.0",
         "4.0",
         "0.678123722766679",
         "0.3644890900177065",
         "0.0",
         "2.0",
         "1.5663493906809394",
         "1.0",
         "-0.976046206201",
         "1.0",
         "0.0",
         "3.0"
        ],
        [
         "30",
         "1.6383042569251294",
         "0.0",
         "1.0",
         "0.678123722766679",
         "-0.1428248785335839",
         "0.0",
         "0.0",
         "0.029083410437046587",
         "0.0",
         "0.8171862719503545",
         "1.0",
         "2.0",
         "3.0"
        ],
        [
         "55",
         "0.0",
         "1.0",
         "4.0",
         "-0.37279052822252",
         "0.4797877192339089",
         "0.0",
         "2.0",
         "-1.8156357658556248",
         "1.0",
         "1.2156823782062112",
         "2.0",
         "1.0",
         "7.0"
        ],
        [
         "99",
         "-0.6553217027700518",
         "1.0",
         "4.0",
         "-0.5041548095961699",
         "-0.534840217868672",
         "0.0",
         "2.0",
         "1.5663493906809394",
         "0.0",
         "-0.976046206201",
         "1.0",
         "0.0",
         "3.0"
        ]
       ],
       "shape": {
        "columns": 13,
        "rows": 5
       }
      },
      "text/html": [
       "<div>\n",
       "<style scoped>\n",
       "    .dataframe tbody tr th:only-of-type {\n",
       "        vertical-align: middle;\n",
       "    }\n",
       "\n",
       "    .dataframe tbody tr th {\n",
       "        vertical-align: top;\n",
       "    }\n",
       "\n",
       "    .dataframe thead th {\n",
       "        text-align: right;\n",
       "    }\n",
       "</style>\n",
       "<table border=\"1\" class=\"dataframe\">\n",
       "  <thead>\n",
       "    <tr style=\"text-align: right;\">\n",
       "      <th></th>\n",
       "      <th>age</th>\n",
       "      <th>sex</th>\n",
       "      <th>cp</th>\n",
       "      <th>trestbps</th>\n",
       "      <th>chol</th>\n",
       "      <th>fbs</th>\n",
       "      <th>restecg</th>\n",
       "      <th>thalach</th>\n",
       "      <th>exang</th>\n",
       "      <th>oldpeak</th>\n",
       "      <th>slope</th>\n",
       "      <th>ca</th>\n",
       "      <th>thal</th>\n",
       "    </tr>\n",
       "  </thead>\n",
       "  <tbody>\n",
       "    <tr>\n",
       "      <th>63</th>\n",
       "      <td>0.000000</td>\n",
       "      <td>0.0</td>\n",
       "      <td>3.0</td>\n",
       "      <td>0.349713</td>\n",
       "      <td>1.356057</td>\n",
       "      <td>1.0</td>\n",
       "      <td>0.0</td>\n",
       "      <td>0.863599</td>\n",
       "      <td>0.0</td>\n",
       "      <td>-0.976046</td>\n",
       "      <td>1.0</td>\n",
       "      <td>0.0</td>\n",
       "      <td>3.0</td>\n",
       "    </tr>\n",
       "    <tr>\n",
       "      <th>133</th>\n",
       "      <td>-0.327661</td>\n",
       "      <td>1.0</td>\n",
       "      <td>4.0</td>\n",
       "      <td>0.678124</td>\n",
       "      <td>0.364489</td>\n",
       "      <td>0.0</td>\n",
       "      <td>2.0</td>\n",
       "      <td>1.566349</td>\n",
       "      <td>1.0</td>\n",
       "      <td>-0.976046</td>\n",
       "      <td>1.0</td>\n",
       "      <td>0.0</td>\n",
       "      <td>3.0</td>\n",
       "    </tr>\n",
       "    <tr>\n",
       "      <th>30</th>\n",
       "      <td>1.638304</td>\n",
       "      <td>0.0</td>\n",
       "      <td>1.0</td>\n",
       "      <td>0.678124</td>\n",
       "      <td>-0.142825</td>\n",
       "      <td>0.0</td>\n",
       "      <td>0.0</td>\n",
       "      <td>0.029083</td>\n",
       "      <td>0.0</td>\n",
       "      <td>0.817186</td>\n",
       "      <td>1.0</td>\n",
       "      <td>2.0</td>\n",
       "      <td>3.0</td>\n",
       "    </tr>\n",
       "    <tr>\n",
       "      <th>55</th>\n",
       "      <td>0.000000</td>\n",
       "      <td>1.0</td>\n",
       "      <td>4.0</td>\n",
       "      <td>-0.372791</td>\n",
       "      <td>0.479788</td>\n",
       "      <td>0.0</td>\n",
       "      <td>2.0</td>\n",
       "      <td>-1.815636</td>\n",
       "      <td>1.0</td>\n",
       "      <td>1.215682</td>\n",
       "      <td>2.0</td>\n",
       "      <td>1.0</td>\n",
       "      <td>7.0</td>\n",
       "    </tr>\n",
       "    <tr>\n",
       "      <th>99</th>\n",
       "      <td>-0.655322</td>\n",
       "      <td>1.0</td>\n",
       "      <td>4.0</td>\n",
       "      <td>-0.504155</td>\n",
       "      <td>-0.534840</td>\n",
       "      <td>0.0</td>\n",
       "      <td>2.0</td>\n",
       "      <td>1.566349</td>\n",
       "      <td>0.0</td>\n",
       "      <td>-0.976046</td>\n",
       "      <td>1.0</td>\n",
       "      <td>0.0</td>\n",
       "      <td>3.0</td>\n",
       "    </tr>\n",
       "  </tbody>\n",
       "</table>\n",
       "</div>"
      ],
      "text/plain": [
       "          age  sex   cp  trestbps      chol  fbs  restecg   thalach  exang  \\\n",
       "63   0.000000  0.0  3.0  0.349713  1.356057  1.0      0.0  0.863599    0.0   \n",
       "133 -0.327661  1.0  4.0  0.678124  0.364489  0.0      2.0  1.566349    1.0   \n",
       "30   1.638304  0.0  1.0  0.678124 -0.142825  0.0      0.0  0.029083    0.0   \n",
       "55   0.000000  1.0  4.0 -0.372791  0.479788  0.0      2.0 -1.815636    1.0   \n",
       "99  -0.655322  1.0  4.0 -0.504155 -0.534840  0.0      2.0  1.566349    0.0   \n",
       "\n",
       "      oldpeak  slope   ca  thal  \n",
       "63  -0.976046    1.0  0.0   3.0  \n",
       "133 -0.976046    1.0  0.0   3.0  \n",
       "30   0.817186    1.0  2.0   3.0  \n",
       "55   1.215682    2.0  1.0   7.0  \n",
       "99  -0.976046    1.0  0.0   3.0  "
      ]
     },
     "metadata": {},
     "output_type": "display_data"
    }
   ],
   "source": [
    "# Memisahkan fitur (X) dan target (y) dari dataframe bersih\n",
    "X = df_clean.drop('target', axis=1)\n",
    "y = df_clean['target']\n",
    "\n",
    "# Membagi data menjadi data latih (80%) dan data uji (20%)\n",
    "X_train, X_test, y_train, y_test = train_test_split(X, y, test_size=0.2, random_state=42, stratify=y) # Menggunakan stratify=y untuk menjaga proporsi kelas target\n",
    "\n",
    "print(f\"Ukuran data latih: {X_train.shape}\")\n",
    "print(f\"Ukuran data uji: {X_test.shape}\\n\")\n",
    "\n",
    "# Standarisasi fitur numerik\n",
    "scaler = StandardScaler()\n",
    "\n",
    "# Melakukan fit dan transform pada data latih\n",
    "X_train[numerical_cols] = scaler.fit_transform(X_train[numerical_cols])\n",
    "\n",
    "# Hanya melakukan transform pada data uji (menggunakan scaler yang sudah di-fit)\n",
    "X_test[numerical_cols] = scaler.transform(X_test[numerical_cols])\n",
    "\n",
    "print(\"Data setelah standarisasi (5 baris pertama dari data latih):\")\n",
    "display(X_train.head())"
   ]
  },
  {
   "cell_type": "markdown",
   "id": "187b33f7",
   "metadata": {},
   "source": []
  },
  {
   "cell_type": "markdown",
   "id": "81270146",
   "metadata": {},
   "source": [
    "## **5. Modeling**\n",
    "Membangun, melatih, dan mengevaluasi dua model klasifikasi: Logistic Regression dan Random Forest."
   ]
  },
  {
   "cell_type": "code",
   "execution_count": 7,
   "id": "8a3bbc24",
   "metadata": {},
   "outputs": [
    {
     "name": "stdout",
     "output_type": "stream",
     "text": [
      "Melatih model Logistic Regression...\n",
      "Melatih model Random Forest...\n",
      "\n",
      "Kedua model berhasil dilatih.\n"
     ]
    }
   ],
   "source": [
    "# Inisialisasi model\n",
    "log_reg = LogisticRegression(random_state=42)\n",
    "rand_forest = RandomForestClassifier(n_estimators=100, max_depth=10, random_state=42)\n",
    "\n",
    "# Melatih model Logistic Regression\n",
    "print(\"Melatih model Logistic Regression...\")\n",
    "log_reg.fit(X_train, y_train)\n",
    "\n",
    "# Melatih model Random Forest\n",
    "print(\"Melatih model Random Forest...\")\n",
    "rand_forest.fit(X_train, y_train)\n",
    "\n",
    "print(\"\\nKedua model berhasil dilatih.\")"
   ]
  },
  {
   "cell_type": "markdown",
   "id": "041285d1",
   "metadata": {},
   "source": []
  },
  {
   "cell_type": "markdown",
   "id": "11bceaf9",
   "metadata": {},
   "source": [
    "## **6. Evaluation**\n",
    "Evaluasi performa kedua model menggunakan berbagai metrik pada data uji."
   ]
  },
  {
   "cell_type": "code",
   "execution_count": 8,
   "id": "2071cf65",
   "metadata": {},
   "outputs": [
    {
     "name": "stdout",
     "output_type": "stream",
     "text": [
      "--- Evaluasi Model: Logistic Regression ---\n",
      "Akurasi: 0.88\n",
      "Presisi: 0.85\n",
      "Recall: 0.88\n",
      "F1-Score: 0.86\n",
      "\n",
      "Laporan Klasifikasi:\n",
      "               precision    recall  f1-score   support\n",
      "\n",
      "        Sehat       0.90      0.87      0.89        31\n",
      "Sakit Jantung       0.85      0.88      0.86        25\n",
      "\n",
      "     accuracy                           0.88        56\n",
      "    macro avg       0.87      0.88      0.87        56\n",
      " weighted avg       0.88      0.88      0.88        56\n",
      "\n"
     ]
    },
    {
     "data": {
      "image/png": "[encoded data removed]",
      "text/plain": [
       "<Figure size 600x400 with 2 Axes>"
      ]
     },
     "metadata": {},
     "output_type": "display_data"
    },
    {
     "name": "stdout",
     "output_type": "stream",
     "text": [
      "--- Evaluasi Model: Random Forest ---\n",
      "Akurasi: 0.86\n",
      "Presisi: 0.84\n",
      "Recall: 0.84\n",
      "F1-Score: 0.84\n",
      "\n",
      "Laporan Klasifikasi:\n",
      "               precision    recall  f1-score   support\n",
      "\n",
      "        Sehat       0.87      0.87      0.87        31\n",
      "Sakit Jantung       0.84      0.84      0.84        25\n",
      "\n",
      "     accuracy                           0.86        56\n",
      "    macro avg       0.86      0.86      0.86        56\n",
      " weighted avg       0.86      0.86      0.86        56\n",
      "\n"
     ]
    },
    {
     "data": {
      "image/png": "[encoded data removed]",
      "text/plain": [
       "<Figure size 600x400 with 2 Axes>"
      ]
     },
     "metadata": {},
     "output_type": "display_data"
    }
   ],
   "source": [
    "# Fungsi untuk mengevaluasi model dan menampilkan hasilnya\n",
    "def evaluate_model(model, X_test, y_test, model_name):\n",
    "    y_pred = model.predict(X_test)\n",
    "    \n",
    "    accuracy = accuracy_score(y_test, y_pred)\n",
    "    precision = precision_score(y_test, y_pred)\n",
    "    recall = recall_score(y_test, y_pred)\n",
    "    f1 = f1_score(y_test, y_pred)\n",
    "    \n",
    "    print(f\"--- Evaluasi Model: {model_name} ---\")\n",
    "    print(f\"Akurasi: {accuracy:.2f}\")\n",
    "    print(f\"Presisi: {precision:.2f}\")\n",
    "    print(f\"Recall: {recall:.2f}\")\n",
    "    print(f\"F1-Score: {f1:.2f}\\n\")\n",
    "    \n",
    "    # Menampilkan classification report\n",
    "    print(\"Laporan Klasifikasi:\")\n",
    "    print(classification_report(y_test, y_pred, target_names=['Sehat', 'Sakit Jantung']))\n",
    "    \n",
    "    # Menampilkan confusion matrix\n",
    "    cm = confusion_matrix(y_test, y_pred)\n",
    "    plt.figure(figsize=(6, 4))\n",
    "    sns.heatmap(cm, annot=True, fmt='d', cmap='Blues',\n",
    "                xticklabels=['Sehat', 'Sakit Jantung'],\n",
    "                yticklabels=['Sehat', 'Sakit Jantung'])\n",
    "    plt.title(f'Confusion Matrix - {model_name}')\n",
    "    plt.xlabel('Prediksi')\n",
    "    plt.ylabel('Aktual')\n",
    "    plt.show()\n",
    "    \n",
    "    return {'Akurasi': accuracy, 'Presisi': precision, 'Recall': recall, 'F1-Score': f1}\n",
    "\n",
    "# Mengevaluasi kedua model\n",
    "log_reg_metrics = evaluate_model(log_reg, X_test, y_test, \"Logistic Regression\")\n",
    "rand_forest_metrics = evaluate_model(rand_forest, X_test, y_test, \"Random Forest\")"
   ]
  },
  {
   "cell_type": "markdown",
   "id": "6cc69be2",
   "metadata": {},
   "source": []
  },
  {
   "cell_type": "markdown",
   "id": "44a9f920",
   "metadata": {},
   "source": [
    "### **Perbandingan Hasil Evaluasi Model**"
   ]
  },
  {
   "cell_type": "code",
   "execution_count": 9,
   "id": "96b19a98",
   "metadata": {},
   "outputs": [
    {
     "name": "stdout",
     "output_type": "stream",
     "text": [
      "Perbandingan Metrik Evaluasi:\n"
     ]
    },
    {
     "data": {
      "application/vnd.microsoft.datawrangler.viewer.v0+json": {
       "columns": [
        {
         "name": "index",
         "rawType": "object",
         "type": "string"
        },
        {
         "name": "Akurasi",
         "rawType": "float64",
         "type": "float"
        },
        {
         "name": "Presisi",
         "rawType": "float64",
         "type": "float"
        },
        {
         "name": "Recall",
         "rawType": "float64",
         "type": "float"
        },
        {
         "name": "F1-Score",
         "rawType": "float64",
         "type": "float"
        }
       ],
       "ref": "06dd2d6f-30e3-4b9e-8880-32f6a470ed0e",
       "rows": [
        [
         "Logistic Regression",
         "0.875",
         "0.846",
         "0.88",
         "0.863"
        ],
        [
         "Random Forest",
         "0.857",
         "0.84",
         "0.84",
         "0.84"
        ]
       ],
       "shape": {
        "columns": 4,
        "rows": 2
       }
      },
      "text/html": [
       "<div>\n",
       "<style scoped>\n",
       "    .dataframe tbody tr th:only-of-type {\n",
       "        vertical-align: middle;\n",
       "    }\n",
       "\n",
       "    .dataframe tbody tr th {\n",
       "        vertical-align: top;\n",
       "    }\n",
       "\n",
       "    .dataframe thead th {\n",
       "        text-align: right;\n",
       "    }\n",
       "</style>\n",
       "<table border=\"1\" class=\"dataframe\">\n",
       "  <thead>\n",
       "    <tr style=\"text-align: right;\">\n",
       "      <th></th>\n",
       "      <th>Akurasi</th>\n",
       "      <th>Presisi</th>\n",
       "      <th>Recall</th>\n",
       "      <th>F1-Score</th>\n",
       "    </tr>\n",
       "  </thead>\n",
       "  <tbody>\n",
       "    <tr>\n",
       "      <th>Logistic Regression</th>\n",
       "      <td>0.875</td>\n",
       "      <td>0.846</td>\n",
       "      <td>0.88</td>\n",
       "      <td>0.863</td>\n",
       "    </tr>\n",
       "    <tr>\n",
       "      <th>Random Forest</th>\n",
       "      <td>0.857</td>\n",
       "      <td>0.840</td>\n",
       "      <td>0.84</td>\n",
       "      <td>0.840</td>\n",
       "    </tr>\n",
       "  </tbody>\n",
       "</table>\n",
       "</div>"
      ],
      "text/plain": [
       "                     Akurasi  Presisi  Recall  F1-Score\n",
       "Logistic Regression    0.875    0.846    0.88     0.863\n",
       "Random Forest          0.857    0.840    0.84     0.840"
      ]
     },
     "metadata": {},
     "output_type": "display_data"
    },
    {
     "name": "stdout",
     "output_type": "stream",
     "text": [
      "\n",
      "Kesimpulan: Model terbaik berdasarkan F1-Score adalah **Logistic Regression**.\n"
     ]
    }
   ],
   "source": [
    "# Membuat DataFrame untuk membandingkan metrik\n",
    "metrics_df = pd.DataFrame({\n",
    "    'Logistic Regression': log_reg_metrics,\n",
    "    'Random Forest': rand_forest_metrics\n",
    "}).T # .T untuk transpose agar model menjadi baris\n",
    "\n",
    "print(\"Perbandingan Metrik Evaluasi:\")\n",
    "display(metrics_df.round(3))\n",
    "\n",
    "# Kesimpulan\n",
    "best_model_name = metrics_df['F1-Score'].idxmax()\n",
    "print(f\"\\nKesimpulan: Model terbaik berdasarkan F1-Score adalah **{best_model_name}**.\")"
   ]
  }
 ],
 "metadata": {
  "kernelspec": {
   "display_name": "base",
   "language": "python",
   "name": "python3"
  },
  "language_info": {
   "codemirror_mode": {
    "name": "ipython",
    "version": 3
   },
   "file_extension": ".py",
   "mimetype": "text/x-python",
   "name": "python",
   "nbconvert_exporter": "python",
   "pygments_lexer": "ipython3",
   "version": "3.10.9"
  }
 },
 "nbformat": 4,
 "nbformat_minor": 5
}
