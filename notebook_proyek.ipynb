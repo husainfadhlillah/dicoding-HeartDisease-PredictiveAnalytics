{
 "cells": [
  {
   "cell_type": "markdown",
   "id": "25fd4ab9",
   "metadata": {},
   "source": [
    "# **Proyek Predictive Analytics: Prediksi Penyakit Jantung**\n",
    "\n",
    "- **Nama:** Muhammad Husain Fadhlillah\n",
    "- **Email Student:** mc006d5y2343@student.devacademy.id\n",
    "- **Cohort ID:** MC006D5Y2343"
   ]
  },
  {
   "cell_type": "markdown",
   "id": "a87872b8",
   "metadata": {},
   "source": [
    "## **1. Mengimpor Library yang Dibutuhkan**\n",
    "Langkah pertama adalah mengimpor semua library Python yang akan digunakan."
   ]
  },
  {
   "cell_type": "code",
   "execution_count": 1,
   "id": "db6ef413",
   "metadata": {},
   "outputs": [],
   "source": [
    "# Untuk mengabaikan peringatan yang tidak relevan agar output lebih bersih\n",
    "import warnings\n",
    "warnings.filterwarnings('ignore')\n",
    "\n",
    "# Library untuk data manipulation dan analysis\n",
    "import pandas as pd\n",
    "import numpy as np\n",
    "\n",
    "# Library untuk visualisasi data\n",
    "import matplotlib.pyplot as plt\n",
    "import seaborn as sns\n",
    "\n",
    "# Library dari Scikit-learn untuk machine learning\n",
    "from sklearn.model_selection import train_test_split\n",
    "from sklearn.preprocessing import StandardScaler\n",
    "from sklearn.linear_model import LogisticRegression\n",
    "from sklearn.ensemble import RandomForestClassifier\n",
    "from sklearn.metrics import accuracy_score, precision_score, recall_score, f1_score, confusion_matrix, classification_report\n",
    "\n",
    "# Mengatur agar plot ditampilkan inline di notebook\n",
    "%matplotlib inline"
   ]
  },
  {
   "cell_type": "markdown",
   "id": "5773bd7c",
   "metadata": {},
   "source": []
  },
  {
   "cell_type": "markdown",
   "id": "2d9ba27b",
   "metadata": {},
   "source": [
    "## **2. Data Loading dan Understanding**\n",
    "Pada tahap ini akan memuat dataset, memberinya nama kolom yang sesuai, dan melakukan eksplorasi data awal untuk memahami strukturnya."
   ]
  },
  {
   "cell_type": "code",
   "execution_count": null,
   "id": "4fd67d48",
   "metadata": {},
   "outputs": [],
   "source": [
    "# URL dari dataset Heart Disease UCI\n",
    "url = \"https://archive.ics.uci.edu/ml/machine-learning-databases/heart-disease/processed.cleveland.data\"\n",
    "\n",
    "# Nama kolom sesuai dengan dokumentasi dataset\n",
    "column_names = ['age', 'sex', 'cp', 'trestbps', 'chol', 'fbs', 'restecg', 'thalach',\n",
    "                'exang', 'oldpeak', 'slope', 'ca', 'thal', 'target']\n",
    "\n",
    "# Memuat dataset menggunakan pandas\n",
    "df = pd.read_csv(url, header=None, names=column_names, na_values='?')\n",
    "\n",
    "# Menampilkan 5 baris pertama dari dataframe\n",
    "print(\"Data Awal (5 baris pertama):\")\n",
    "display(df.head())\n",
    "\n",
    "# Mengubah nilai target: nilai > 0 berarti ada penyakit jantung (diubah menjadi 1)\n",
    "df['target'] = (df['target'] > 0).astype(int)"
   ]
  },
  {
   "cell_type": "markdown",
   "id": "c78fd951",
   "metadata": {},
   "source": []
  },
  {
   "cell_type": "markdown",
   "id": "8b2d76d4",
   "metadata": {},
   "source": [
    "## **3. Data Cleaning**\n",
    "Pada tahap ini akan melakukan pembersihan data secara menyeluruh, meliputi:\n",
    "\n",
    "1. Penanganan nilai yang hilang (missing values).\n",
    "2. Penanganan data duplikat.\n",
    "3. Penanganan outlier menggunakan metode IQR."
   ]
  },
  {
   "cell_type": "code",
   "execution_count": null,
   "id": "bd76aada",
   "metadata": {},
   "outputs": [],
   "source": [
    "# 1. Penanganan Missing Values\n",
    "print(\"--- 1. Penanganan Missing Values ---\")\n",
    "print(f\"Jumlah baris awal: {len(df)}\")\n",
    "print(f\"Jumlah missing values sebelum dibersihkan:\\n{df.isnull().sum()}\\n\")\n",
    "df.dropna(inplace=True)\n",
    "print(f\"Jumlah baris setelah menghapus missing values: {len(df)}\\n\")\n",
    "\n",
    "# 2. Penanganan Data Duplikat\n",
    "print(\"--- 2. Penanganan Data Duplikat ---\")\n",
    "print(f\"Jumlah data duplikat: {df.duplicated().sum()}\")\n",
    "df.drop_duplicates(inplace=True)\n",
    "print(f\"Jumlah data duplikat setelah dihapus: {df.duplicated().sum()}\")\n",
    "print(f\"Jumlah baris setelah menghapus duplikat: {len(df)}\\n\")\n",
    "\n",
    "# 3. Penanganan Outlier dengan Metode IQR\n",
    "print(\"--- 3. Penanganan Outlier ---\")\n",
    "numerical_cols = ['age', 'trestbps', 'chol', 'thalach', 'oldpeak']\n",
    "Q1 = df[numerical_cols].quantile(0.25)\n",
    "Q3 = df[numerical_cols].quantile(0.75)\n",
    "IQR = Q3 - Q1\n",
    "\n",
    "# Filter data, membuang baris yang memiliki outlier di salah satu kolom numerik\n",
    "# Kondisi `~` (not) digunakan untuk mempertahankan baris yang TIDAK outlier\n",
    "df_clean = df[~((df[numerical_cols] < (Q1 - 1.5 * IQR)) | (df[numerical_cols] > (Q3 + 1.5 * IQR))).any(axis=1)]\n",
    "\n",
    "print(f\"Ukuran data sebelum menghapus outlier: {df.shape}\")\n",
    "print(f\"Ukuran data setelah menghapus outlier: {df_clean.shape}\")\n",
    "print(\"Data telah bersih dan siap untuk analisis lebih lanjut.\")"
   ]
  },
  {
   "cell_type": "markdown",
   "id": "bb13008a",
   "metadata": {},
   "source": [
    "## **3. Exploratory Data Analysis (EDA)**\n",
    "Melakukan analisis dan visualisasi pada data yang sudah bersih (df_clean) untuk mendapatkan wawasan."
   ]
  },
  {
   "cell_type": "code",
   "execution_count": null,
   "id": "89138e3a",
   "metadata": {},
   "outputs": [],
   "source": [
    "# Menampilkan informasi dasar dataframe\n",
    "print(\"\\nInformasi DataFrame:\")\n",
    "df.info()"
   ]
  },
  {
   "cell_type": "code",
   "execution_count": null,
   "id": "7afd2a28",
   "metadata": {},
   "outputs": [],
   "source": [
    "# Menampilkan statistik deskriptif dari data yang sudah bersih\n",
    "print(\"Statistik Deskriptif (Data Bersih):\")\n",
    "display(df_clean.describe())\n",
    "\n",
    "# Visualisasi distribusi variabel target pada data bersih\n",
    "plt.figure(figsize=(6, 4))\n",
    "sns.countplot(x='target', data=df_clean)\n",
    "plt.title('Distribusi Variabel Target (Data Bersih)')\n",
    "plt.xlabel('Status Penyakit Jantung (0: Sehat, 1: Sakit)')\n",
    "plt.ylabel('Jumlah Pasien')\n",
    "plt.show()\n",
    "\n",
    "# Visualisasi korelasi antar fitur menggunakan heatmap pada data bersih\n",
    "plt.figure(figsize=(12, 10))\n",
    "sns.heatmap(df_clean.corr(), annot=True, cmap='coolwarm', fmt='.2f')\n",
    "plt.title('Heatmap Korelasi (Data Bersih)')\n",
    "plt.show()"
   ]
  },
  {
   "cell_type": "markdown",
   "id": "3ee58c3a",
   "metadata": {},
   "source": []
  },
  {
   "cell_type": "markdown",
   "id": "c0b79020",
   "metadata": {},
   "source": [
    "## **4. Data Preparation**\n",
    "Memisahkan fitur dan target, membagi data menjadi set pelatihan dan pengujian, serta melakukan standarisasi fitur."
   ]
  },
  {
   "cell_type": "code",
   "execution_count": null,
   "id": "ad858dc5",
   "metadata": {},
   "outputs": [],
   "source": [
    "# Memisahkan fitur (X) dan target (y) dari dataframe bersih\n",
    "X = df_clean.drop('target', axis=1)\n",
    "y = df_clean['target']\n",
    "\n",
    "# Membagi data menjadi data latih (80%) dan data uji (20%)\n",
    "X_train, X_test, y_train, y_test = train_test_split(X, y, test_size=0.2, random_state=42, stratify=y) # Menggunakan stratify=y untuk menjaga proporsi kelas target\n",
    "\n",
    "print(f\"Ukuran data latih: {X_train.shape}\")\n",
    "print(f\"Ukuran data uji: {X_test.shape}\\n\")\n",
    "\n",
    "# Standarisasi fitur numerik\n",
    "scaler = StandardScaler()\n",
    "\n",
    "# Melakukan fit dan transform pada data latih\n",
    "X_train[numerical_cols] = scaler.fit_transform(X_train[numerical_cols])\n",
    "\n",
    "# Hanya melakukan transform pada data uji (menggunakan scaler yang sudah di-fit)\n",
    "X_test[numerical_cols] = scaler.transform(X_test[numerical_cols])\n",
    "\n",
    "print(\"Data setelah standarisasi (5 baris pertama dari data latih):\")\n",
    "display(X_train.head())"
   ]
  },
  {
   "cell_type": "markdown",
   "id": "187b33f7",
   "metadata": {},
   "source": []
  },
  {
   "cell_type": "markdown",
   "id": "81270146",
   "metadata": {},
   "source": [
    "## **5. Modeling**\n",
    "Membangun, melatih, dan mengevaluasi dua model klasifikasi: Logistic Regression dan Random Forest."
   ]
  },
  {
   "cell_type": "code",
   "execution_count": null,
   "id": "8a3bbc24",
   "metadata": {},
   "outputs": [],
   "source": [
    "# Inisialisasi model\n",
    "log_reg = LogisticRegression(random_state=42)\n",
    "rand_forest = RandomForestClassifier(n_estimators=100, max_depth=10, random_state=42)\n",
    "\n",
    "# Melatih model Logistic Regression\n",
    "print(\"Melatih model Logistic Regression...\")\n",
    "log_reg.fit(X_train, y_train)\n",
    "\n",
    "# Melatih model Random Forest\n",
    "print(\"Melatih model Random Forest...\")\n",
    "rand_forest.fit(X_train, y_train)\n",
    "\n",
    "print(\"\\nKedua model berhasil dilatih.\")"
   ]
  },
  {
   "cell_type": "markdown",
   "id": "041285d1",
   "metadata": {},
   "source": []
  },
  {
   "cell_type": "markdown",
   "id": "11bceaf9",
   "metadata": {},
   "source": [
    "## **6. Evaluation**\n",
    "Evaluasi performa kedua model menggunakan berbagai metrik pada data uji."
   ]
  },
  {
   "cell_type": "code",
   "execution_count": null,
   "id": "2071cf65",
   "metadata": {},
   "outputs": [],
   "source": [
    "# Fungsi untuk mengevaluasi model dan menampilkan hasilnya\n",
    "def evaluate_model(model, X_test, y_test, model_name):\n",
    "    y_pred = model.predict(X_test)\n",
    "    \n",
    "    accuracy = accuracy_score(y_test, y_pred)\n",
    "    precision = precision_score(y_test, y_pred)\n",
    "    recall = recall_score(y_test, y_pred)\n",
    "    f1 = f1_score(y_test, y_pred)\n",
    "    \n",
    "    print(f\"--- Evaluasi Model: {model_name} ---\")\n",
    "    print(f\"Akurasi: {accuracy:.2f}\")\n",
    "    print(f\"Presisi: {precision:.2f}\")\n",
    "    print(f\"Recall: {recall:.2f}\")\n",
    "    print(f\"F1-Score: {f1:.2f}\\n\")\n",
    "    \n",
    "    # Menampilkan classification report\n",
    "    print(\"Laporan Klasifikasi:\")\n",
    "    print(classification_report(y_test, y_pred, target_names=['Sehat', 'Sakit Jantung']))\n",
    "    \n",
    "    # Menampilkan confusion matrix\n",
    "    cm = confusion_matrix(y_test, y_pred)\n",
    "    plt.figure(figsize=(6, 4))\n",
    "    sns.heatmap(cm, annot=True, fmt='d', cmap='Blues',\n",
    "                xticklabels=['Sehat', 'Sakit Jantung'],\n",
    "                yticklabels=['Sehat', 'Sakit Jantung'])\n",
    "    plt.title(f'Confusion Matrix - {model_name}')\n",
    "    plt.xlabel('Prediksi')\n",
    "    plt.ylabel('Aktual')\n",
    "    plt.show()\n",
    "    \n",
    "    return {'Akurasi': accuracy, 'Presisi': precision, 'Recall': recall, 'F1-Score': f1}\n",
    "\n",
    "# Mengevaluasi kedua model\n",
    "log_reg_metrics = evaluate_model(log_reg, X_test, y_test, \"Logistic Regression\")\n",
    "rand_forest_metrics = evaluate_model(rand_forest, X_test, y_test, \"Random Forest\")"
   ]
  },
  {
   "cell_type": "markdown",
   "id": "6cc69be2",
   "metadata": {},
   "source": []
  },
  {
   "cell_type": "markdown",
   "id": "44a9f920",
   "metadata": {},
   "source": [
    "### **Perbandingan Hasil Evaluasi Model**"
   ]
  },
  {
   "cell_type": "code",
   "execution_count": null,
   "id": "96b19a98",
   "metadata": {},
   "outputs": [],
   "source": [
    "# Membuat DataFrame untuk membandingkan metrik\n",
    "metrics_df = pd.DataFrame({\n",
    "    'Logistic Regression': log_reg_metrics,\n",
    "    'Random Forest': rand_forest_metrics\n",
    "}).T # .T untuk transpose agar model menjadi baris\n",
    "\n",
    "print(\"Perbandingan Metrik Evaluasi:\")\n",
    "display(metrics_df.round(3))\n",
    "\n",
    "# Kesimpulan\n",
    "best_model_name = metrics_df['F1-Score'].idxmax()\n",
    "print(f\"\\nKesimpulan: Model terbaik berdasarkan F1-Score adalah **{best_model_name}**.\")"
   ]
  }
 ],
 "metadata": {
  "kernelspec": {
   "display_name": "base",
   "language": "python",
   "name": "python3"
  },
  "language_info": {
   "codemirror_mode": {
    "name": "ipython",
    "version": 3
   },
   "file_extension": ".py",
   "mimetype": "text/x-python",
   "name": "python",
   "nbconvert_exporter": "python",
   "pygments_lexer": "ipython3",
   "version": "3.10.9"
  }
 },
 "nbformat": 4,
 "nbformat_minor": 5
}
